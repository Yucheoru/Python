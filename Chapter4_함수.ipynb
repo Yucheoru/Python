{
 "cells": [
  {
   "cell_type": "markdown",
   "id": "1633f4af-124e-45b1-ac9b-7a9a27b67259",
   "metadata": {},
   "source": [
    "# 4-3 함수 고급\n",
    "\n",
    "## 튜플\n",
    ": 리스트와 비슷한 자료형으로, 리스트와 다른 점은 한번 결정된 요소는 바꿀 수 없음  \n",
    "cf)\n",
    "* 요소를 하나만 가지는 리스트는 이와 같이 생성 : [273]\n",
    "* 요소를 하나만 가지는 튜플은 이와 같이 생성 : (273, )"
   ]
  },
  {
   "cell_type": "code",
   "execution_count": 1,
   "id": "79890118-5f02-44eb-a384-0d121c95f35b",
   "metadata": {},
   "outputs": [
    {
     "name": "stdout",
     "output_type": "stream",
     "text": [
      "# 괄호가 없는 튜플의 값과 자료형 출력\n",
      "tuple_test: (10, 20, 30, 40)\n",
      "type(tuple_test): <class 'tuple'>\n",
      "\n",
      "# 괄호가 없는 튜플을 활용한 할당\n",
      "a: 10\n",
      "b: 20\n",
      "c: 30\n"
     ]
    }
   ],
   "source": [
    "# 괄호가 없는 튜플\n",
    "tuple_test = 10, 20, 30, 40\n",
    "print(\"# 괄호가 없는 튜플의 값과 자료형 출력\")\n",
    "print(\"tuple_test:\", tuple_test)\n",
    "print(\"type(tuple_test):\", type(tuple_test))\n",
    "print()\n",
    "\n",
    "a, b, c = 10, 20, 30\n",
    "print(\"# 괄호가 없는 튜플을 활용한 할당\")\n",
    "print(\"a:\", a)\n",
    "print(\"b:\", b)\n",
    "print(\"c:\", c)"
   ]
  },
  {
   "cell_type": "code",
   "execution_count": 3,
   "id": "69e3ddc7-cab4-4dc2-8e9d-7eacacad20fb",
   "metadata": {},
   "outputs": [
    {
     "name": "stdout",
     "output_type": "stream",
     "text": [
      "# 교환 전 값\n",
      "a: 10\n",
      "b: 20\n",
      "\n",
      "# 교환 후 값\n",
      "a: 20\n",
      "b: 10\n"
     ]
    }
   ],
   "source": [
    "# 변수의 값을 교환하는 튜플\n",
    "a, b = 10, 20\n",
    "\n",
    "print(\"# 교환 전 값\")\n",
    "print(\"a:\", a)\n",
    "print(\"b:\", b)\n",
    "print()\n",
    "\n",
    "a, b = b, a\n",
    "\n",
    "print(\"# 교환 후 값\")\n",
    "print(\"a:\", a)\n",
    "print(\"b:\", b)"
   ]
  },
  {
   "cell_type": "code",
   "execution_count": 4,
   "id": "10929452-4e11-4425-807b-e17d68bd2ca6",
   "metadata": {},
   "outputs": [
    {
     "name": "stdout",
     "output_type": "stream",
     "text": [
      "a: 10\n",
      "b: 20\n"
     ]
    }
   ],
   "source": [
    "# 여러 개의 값 리턴\n",
    "def test():\n",
    "    return (10, 20)\n",
    "\n",
    "a, b = test()\n",
    "\n",
    "print(\"a:\", a)\n",
    "print(\"b:\", b)"
   ]
  }
 ],
 "metadata": {
  "kernelspec": {
   "display_name": "Python 3 (ipykernel)",
   "language": "python",
   "name": "python3"
  },
  "language_info": {
   "codemirror_mode": {
    "name": "ipython",
    "version": 3
   },
   "file_extension": ".py",
   "mimetype": "text/x-python",
   "name": "python",
   "nbconvert_exporter": "python",
   "pygments_lexer": "ipython3",
   "version": "3.11.5"
  }
 },
 "nbformat": 4,
 "nbformat_minor": 5
}
