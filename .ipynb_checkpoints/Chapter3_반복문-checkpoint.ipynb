{
 "cells": [
  {
   "cell_type": "markdown",
   "id": "5dfc94df-f19b-42a3-9cd5-bd4494d56a13",
   "metadata": {},
   "source": [
    "# 3-1 리스트와 반복문\n",
    "* 리스트 : 여러 가지 자료(숫자나 문자, 수식 등)를 저장할 수 있는 자료\n",
    "## 3-1-1 리스트 선언 및 요소에 접근\n",
    "* 요소(element) : 리스트 내부에 넣는 자료\n",
    "* 인덱스(index) : 리스트 기호인 [] 안에 들어간 숫자"
   ]
  },
  {
   "cell_type": "code",
   "execution_count": 2,
   "id": "f42bc30b-5b69-45f4-8420-6f8f5e6a0c81",
   "metadata": {},
   "outputs": [
    {
     "name": "stdout",
     "output_type": "stream",
     "text": [
      "103\n",
      "[32, 103]\n",
      "['변경', 32, 103, '문자열', True, False]\n"
     ]
    }
   ],
   "source": [
    "list_a = [273, 32, 103, \"문자열\", True, False]\n",
    "\n",
    "print(list_a[2])\n",
    "print(list_a[1:3])\n",
    "\n",
    "list_a[0] = \"변경\" #리스트의 특정요소 변경 가능\n",
    "print(list_a)"
   ]
  },
  {
   "cell_type": "code",
   "execution_count": 4,
   "id": "a08b9158-11a9-49bd-9af7-04274e9e3936",
   "metadata": {},
   "outputs": [
    {
     "name": "stdout",
     "output_type": "stream",
     "text": [
      "True\n",
      "자\n",
      "[4, 5, 6]\n",
      "5\n"
     ]
    }
   ],
   "source": [
    "list_a = [273, 32, 103, \"문자열\", True, False]\n",
    "\n",
    "# 대괄호 안에 음수를 넣어 뒤에서부터 요소를 선택 가능\n",
    "print(list_a[-2])\n",
    "\n",
    "# 리스트 접근 연산자를 이중으로 사용 가능\n",
    "print(list_a[3][1])\n",
    "\n",
    "# 리스트 안에 리스트도 사용 가능\n",
    "list_b = [[1, 2, 3], [4, 5, 6], [7, 8, 9]]\n",
    "\n",
    "print(list_b[1])\n",
    "print(list_b[1][1])"
   ]
  },
  {
   "cell_type": "markdown",
   "id": "1b32926e-7a12-4da2-90c1-867504be6aac",
   "metadata": {},
   "source": [
    "## 3-1-2 리스트 연산자: 연결(+), 반복(*), len()"
   ]
  },
  {
   "cell_type": "code",
   "execution_count": 8,
   "id": "08ab79cb-cee2-4298-aaf6-019fe6bb0ced",
   "metadata": {},
   "outputs": [
    {
     "name": "stdout",
     "output_type": "stream",
     "text": [
      "list_a + list_b = [1, 2, 3, 4, 5, 6]\n",
      "\n",
      "list_a * 3 = [1, 2, 3, 1, 2, 3, 1, 2, 3]\n",
      "\n",
      "len(list_a) = 3\n"
     ]
    }
   ],
   "source": [
    "list_a = [1, 2, 3]\n",
    "list_b = [4, 5, 6]\n",
    "\n",
    "print(\"list_a + list_b =\", list_a + list_b)\n",
    "print()\n",
    "print(\"list_a * 3 =\", list_a * 3)\n",
    "print()\n",
    "print(\"len(list_a) =\", len(list_a))"
   ]
  },
  {
   "cell_type": "markdown",
   "id": "37fc7e7b-f9df-4676-9cfb-dff612f45ef2",
   "metadata": {},
   "source": [
    "## 3-1-3 리스트에 요소 추가\n",
    "* 리스트명.append(요소) : 리스트 뒤에 요소 추가\n",
    "* 리스트명.insert(위치, 요소) : 리스트의 중간에 요소 추가\n",
    "* 리스트명.extend(리스트) : 원래 리스트 뒤에 새로운 리스트의 요소를 모두 추가\n",
    "* del 리스트명[인덱스] : 리스트의 특정 인덱스에 있는 요소 제거\n",
    "* 리스트명.pop(인덱스) : 제거할 위치의 요소를 제거, 매개변수 입력 없으면 마지막 요소를 제거\n",
    "* 리스트.remove(값) : 리스트 내부의 값을 제거\n",
    "* 리스트.clear() : 리스트 내부 요소 모두 제거"
   ]
  },
  {
   "cell_type": "code",
   "execution_count": 10,
   "id": "44a0ff5e-3ca1-4eb7-8736-3a16e7189400",
   "metadata": {},
   "outputs": [
    {
     "name": "stdout",
     "output_type": "stream",
     "text": [
      "[1, 2, 3, 4]\n",
      "\n",
      "[0, 1, 2, 3, 4]\n",
      "\n",
      "[4, 5, 6, 7, 8, 9]\n",
      "\n",
      "[1, 2, 3, 4]\n",
      "\n",
      "[1, 2, 3]\n",
      "\n",
      "[1, 3]\n",
      "\n",
      "[]\n",
      "\n"
     ]
    }
   ],
   "source": [
    "list_a = [1, 2, 3]\n",
    "\n",
    "list_a.append(4) # 뒤에 4 추가\n",
    "print(list_a)\n",
    "print()\n",
    "\n",
    "list_a.insert(0, 0) # 맨 앞에 0 추가\n",
    "print(list_a)\n",
    "print()\n",
    "\n",
    "list_b = [4, 5, 6]\n",
    "list_b.extend([7, 8, 9]) # 원래 리스트에 새로운 리스트 요소 추가\n",
    "print(list_b)\n",
    "print()\n",
    "\n",
    "del list_a[0] # 인덱스 0 요소 제거\n",
    "print(list_a)\n",
    "print()\n",
    "\n",
    "list_a.pop() # 마지막 요소 제거\n",
    "print(list_a)\n",
    "print()\n",
    "\n",
    "list_a.remove(2) # 2를 제거\n",
    "print(list_a)\n",
    "print()\n",
    "\n",
    "list_b.clear() # 모든 요소 제거\n",
    "print(list_b)\n",
    "print()"
   ]
  },
  {
   "cell_type": "code",
   "execution_count": 17,
   "id": "da540fe1-50bb-4c96-b6f0-49fa239e315f",
   "metadata": {},
   "outputs": [
    {
     "name": "stdout",
     "output_type": "stream",
     "text": [
      "1\n",
      "2\n",
      "3\n",
      "4\n",
      "5\n",
      "6\n",
      "7\n",
      "8\n",
      "9\n"
     ]
    }
   ],
   "source": [
    "# 숫자를 하나하나 모두 출력하기\n",
    "list_of_list = [\n",
    "    [1, 2, 3],\n",
    "    [4, 5, 6, 7],\n",
    "    [8, 9],\n",
    "]\n",
    "\n",
    "for numbers in list_of_list:\n",
    "    for number in numbers:\n",
    "        print(number)"
   ]
  },
  {
   "cell_type": "code",
   "execution_count": 19,
   "id": "0f92da95-6bd8-4a5e-aff6-c551b67af3f0",
   "metadata": {},
   "outputs": [
    {
     "name": "stdout",
     "output_type": "stream",
     "text": [
      "[[1, 4, 7], [2, 5, 8], [3, 6, 9]]\n"
     ]
    }
   ],
   "source": [
    "# 하나의 리스트의 요소들을 여러 리스트에 넣기\n",
    "numbers = [1, 2, 3, 4, 5, 6, 7, 8, 9]\n",
    "output = [[], [], []]\n",
    "\n",
    "for number in numbers:\n",
    "    output[(number+2)%3].append(number)\n",
    "\n",
    "print(output)"
   ]
  },
  {
   "cell_type": "markdown",
   "id": "68c4b8ec-0ed4-4525-a403-c9e32c5d40f1",
   "metadata": {},
   "source": [
    "# 3-2 딕셔너리와 반복문\n",
    "* 딕셔너리 : 키를 기반으로 값을 저장 (리스트는 인덱스를 기반으로 값을 저장)"
   ]
  },
  {
   "cell_type": "code",
   "execution_count": 20,
   "id": "b2de3635-389f-4975-bff2-521f75c33359",
   "metadata": {},
   "outputs": [
    {
     "name": "stdout",
     "output_type": "stream",
     "text": [
      "name: 7D 건조 망고\n",
      "type: 당절임\n",
      "ingredient: ['망고', '설탕', '메타중아황산나트륨', '치자황색소']\n",
      "origin: 필리핀\n",
      "\n",
      "name: 8D 건조 망고\n",
      "\n",
      "설탕\n"
     ]
    }
   ],
   "source": [
    "dictionary = {\n",
    "    \"name\": \"7D 건조 망고\",\n",
    "    \"type\": \"당절임\",\n",
    "    \"ingredient\": [\"망고\", \"설탕\", \"메타중아황산나트륨\", \"치자황색소\"],\n",
    "    \"origin\": \"필리핀\"\n",
    "}\n",
    "\n",
    "print(\"name:\", dictionary[\"name\"])\n",
    "print(\"type:\", dictionary[\"type\"])\n",
    "print(\"ingredient:\", dictionary[\"ingredient\"])\n",
    "print(\"origin:\", dictionary[\"origin\"])\n",
    "print()\n",
    "\n",
    "# 값 변경\n",
    "dictionary[\"name\"] = \"8D 건조 망고\"\n",
    "print(\"name:\", dictionary[\"name\"])\n",
    "print()\n",
    "\n",
    "# 리스트 안의 특정값 출력\n",
    "print(dictionary[\"ingredient\"][1])"
   ]
  },
  {
   "cell_type": "code",
   "execution_count": 21,
   "id": "88ad42d0-d22f-410d-b7da-afff081153b1",
   "metadata": {},
   "outputs": [
    {
     "name": "stdout",
     "output_type": "stream",
     "text": [
      "{'name': '8D 건조 망고', 'type': '당절임', 'ingredient': ['망고', '설탕', '메타중아황산나트륨', '치자황색소'], 'origin': '필리핀', 'price': 5000}\n",
      "\n",
      "{'name': '8D 건조 망고', 'type': '당절임', 'origin': '필리핀', 'price': 5000}\n",
      "\n"
     ]
    }
   ],
   "source": [
    "# 딕셔너리 요소 추가\n",
    "dictionary[\"price\"] = 5000\n",
    "print(dictionary)\n",
    "print()\n",
    "\n",
    "# 딕셔너리 요소 제거\n",
    "del dictionary[\"ingredient\"]\n",
    "print(dictionary)\n",
    "print()"
   ]
  },
  {
   "cell_type": "code",
   "execution_count": 22,
   "id": "18e4ba44-8c68-40b1-aab2-845be578c050",
   "metadata": {},
   "outputs": [
    {
     "name": "stdout",
     "output_type": "stream",
     "text": [
      "{1: 4, 2: 2, 3: 3, 4: 3, 5: 2, 8: 1, 9: 1, 6: 1}\n"
     ]
    }
   ],
   "source": [
    "# numbers 내부의 숫자가 몇 번 등장하는지\n",
    "numbers = [1, 2, 3, 4, 1, 5, 8, 5, 3, 2, 9, 1, 1, 3, 4, 4, 6]\n",
    "counter = {}\n",
    "\n",
    "for number in numbers:\n",
    "    if number in counter:\n",
    "        counter[number] = counter[number] + 1\n",
    "    else:\n",
    "        counter[number] = 1\n",
    "\n",
    "print(counter)"
   ]
  },
  {
   "cell_type": "markdown",
   "id": "dd46e952-f7fb-4753-aed8-acac58fa4ec9",
   "metadata": {},
   "source": [
    "ex) 이하는 특정 값이 어떤 자료형인지 알게 해준다  \n",
    "type(\"문자열\") is str : 문자열인지 확인  \n",
    "type([]) is list : 리스트인지 확인  \n",
    "type({}) is dict : 딕셔너리인지 확인"
   ]
  },
  {
   "cell_type": "code",
   "execution_count": 23,
   "id": "f46afdb4-8b1f-4baf-96c1-031102d3a28e",
   "metadata": {},
   "outputs": [
    {
     "name": "stdout",
     "output_type": "stream",
     "text": [
      "name : 기사\n",
      "level : 12\n",
      "sword : 불꽃의 검\n",
      "armor : 풀플레이트\n",
      "skill : 베기\n",
      "skill : 세게 베기\n",
      "skill : 아주 세게 베기\n"
     ]
    }
   ],
   "source": [
    "character = {\n",
    "    \"name\": \"기사\",\n",
    "    \"level\": 12,\n",
    "    \"item\": {\n",
    "        \"sword\": \"불꽃의 검\",\n",
    "        \"armor\": \"풀플레이트\"\n",
    "    },\n",
    "    \"skill\": [\"베기\", \"세게 베기\", \"아주 세게 베기\"]\n",
    "    }\n",
    "\n",
    "for key in character:\n",
    "    if type(character[key]) is dict:\n",
    "        for small_key in character[key]:\n",
    "            print(small_key, \":\", character[key][small_key])\n",
    "    elif type(character[key]) is list:\n",
    "        for item in character[key]:\n",
    "            print(key, \":\", item)\n",
    "    else:\n",
    "        print(key, \":\", character[key])\n",
    "    "
   ]
  },
  {
   "cell_type": "markdown",
   "id": "16581c08-885e-4330-a18b-9810f6defce7",
   "metadata": {},
   "source": [
    "# 3-3 반복문과 while 반복문"
   ]
  },
  {
   "cell_type": "code",
   "execution_count": 24,
   "id": "764a8941-87eb-423d-9de4-f9e0a867c9f0",
   "metadata": {},
   "outputs": [
    {
     "name": "stdout",
     "output_type": "stream",
     "text": [
      "{'name': '기사', 'hp': 200, 'mp': 30, 'level': 5}\n"
     ]
    }
   ],
   "source": [
    "# 리스트를 조합해 하나의 딕셔너리로 만들기\n",
    "key_list = [\"name\", \"hp\", \"mp\", \"level\"]\n",
    "value_list = [\"기사\", 200, 30, 5]\n",
    "character = {}\n",
    "\n",
    "for i in range(len(key_list)):\n",
    "    character[key_list[i]] = value_list[i]\n",
    "\n",
    "print(character)"
   ]
  },
  {
   "cell_type": "code",
   "execution_count": 26,
   "id": "b646eb2d-9a5d-40e8-9e09-8ad93dea8837",
   "metadata": {},
   "outputs": [
    {
     "name": "stdout",
     "output_type": "stream",
     "text": [
      "최대가 되는 경우: 50 * 50 = 2500\n"
     ]
    }
   ],
   "source": [
    "# 1부터 100까지의 숫자에서 곱하면 최대가 되는 숫자 출력\n",
    "max_value = 0\n",
    "a = 0\n",
    "b = 0\n",
    "\n",
    "for i in range(1, 100//2 + 1):\n",
    "    j = 100 - i\n",
    "\n",
    "    current = i * j\n",
    "    if max_value < current:\n",
    "        a = i\n",
    "        b = j\n",
    "        max_value = current\n",
    "\n",
    "print(\"최대가 되는 경우: {} * {} = {}\".format(a, b, max_value))"
   ]
  },
  {
   "cell_type": "markdown",
   "id": "daf80232-c82a-4708-a09f-ca0def0067db",
   "metadata": {},
   "source": [
    "# 3-4 문자열, 리스트, 딕셔너리와 관련된 기본 함수\n",
    "* 리스트에 적용 가능한 기본 함수 : min(), max(), sum()\n",
    "* 리스트 뒤집기 : reversed()\n",
    "* 현재 인덱스가 몇 번째 인지 확인하기 : enumerate()\n",
    "* 딕셔너리로 쉽게 반복문 작성하기 : items()\n",
    "* 리스트 안에 for문 사용하기 : 리스트 내포"
   ]
  },
  {
   "cell_type": "code",
   "execution_count": 27,
   "id": "978d4e2a-6b25-47d4-929c-9ae62f69bcd5",
   "metadata": {},
   "outputs": [
    {
     "name": "stdout",
     "output_type": "stream",
     "text": [
      "32\n",
      "273\n",
      "537\n"
     ]
    }
   ],
   "source": [
    "numbers = [103, 52, 273, 32, 77]\n",
    "\n",
    "print(min(numbers))\n",
    "print(max(numbers))\n",
    "print(sum(numbers))"
   ]
  },
  {
   "cell_type": "code",
   "execution_count": 31,
   "id": "e44aab5a-d197-498a-885e-39f2e2618fcb",
   "metadata": {},
   "outputs": [
    {
     "name": "stdout",
     "output_type": "stream",
     "text": [
      "# reversed() 함수\n",
      "reversed([1, 2, 3, 4, 5]): <list_reverseiterator object at 0x104337070>\n",
      "list(reversed([1, 2, 3, 4, 5])): [5, 4, 3, 2, 1]\n",
      "\n",
      "# reversed() 함수와 반복문\n",
      "for i in reversed([1, 2, 3, 4, 5]):\n",
      "- 5\n",
      "- 4\n",
      "- 3\n",
      "- 2\n",
      "- 1\n"
     ]
    }
   ],
   "source": [
    "# reversed() 예시\n",
    "\n",
    "# 리스트 선언 후 뒤집기\n",
    "list_a = [1, 2, 3, 4, 5]\n",
    "list_reversed = reversed(list_a)\n",
    "\n",
    "print(\"# reversed() 함수\")\n",
    "print(\"reversed([1, 2, 3, 4, 5]):\", list_reversed)\n",
    "print(\"list(reversed([1, 2, 3, 4, 5])):\", list(list_reversed))\n",
    "print()\n",
    "\n",
    "print(\"# reversed() 함수와 반복문\")\n",
    "print(\"for i in reversed([1, 2, 3, 4, 5]):\")\n",
    "for i in reversed(list_a): # reversed()함수의 결과는 제너레이터 이기에, 이와 같이 for구문에 바로 넣어서 사용 \n",
    "    print(\"-\", i)"
   ]
  },
  {
   "cell_type": "code",
   "execution_count": 33,
   "id": "b1243f49-796d-4693-8e8c-986d4f21d386",
   "metadata": {},
   "outputs": [
    {
     "name": "stdout",
     "output_type": "stream",
     "text": [
      "# 단순출력\n",
      "['요소A', '요소B', '요소C']\n",
      "\n",
      "# enumerate() 함수 적용 출력\n",
      "<enumerate object at 0x105b8be70>\n",
      "\n",
      "# list() 함수로 강제 변환 출력\n",
      "[(0, '요소A'), (1, '요소B'), (2, '요소C')]\n",
      "\n",
      "# 반복문과 조합하기\n",
      "0번째 요소는 요소A입니다.\n",
      "1번째 요소는 요소B입니다.\n",
      "2번째 요소는 요소C입니다.\n"
     ]
    }
   ],
   "source": [
    "#enumerate() 예시\n",
    "\n",
    "example_list = [\"요소A\", \"요소B\", \"요소C\"]\n",
    "\n",
    "print(\"# 단순출력\")\n",
    "print(example_list)\n",
    "print()\n",
    "\n",
    "print(\"# enumerate() 함수 적용 출력\")\n",
    "print(enumerate(example_list))\n",
    "print()\n",
    "\n",
    "print(\"# list() 함수로 강제 변환 출력\")\n",
    "print(list(enumerate(example_list)))\n",
    "print()\n",
    "\n",
    "print(\"# 반복문과 조합하기\")\n",
    "for i, value in enumerate(example_list):\n",
    "    print(\"{}번째 요소는 {}입니다.\".format(i, value))"
   ]
  },
  {
   "cell_type": "code",
   "execution_count": 34,
   "id": "29077ad4-48f4-4b76-b5e7-047e96d45373",
   "metadata": {},
   "outputs": [
    {
     "name": "stdout",
     "output_type": "stream",
     "text": [
      "# 딕셔너리의 items() 함수\n",
      "items(): dict_items([('키A', '값A'), ('키B', '값B'), ('키C', '값C')])\n",
      "\n",
      "# 딕셔너리의 items() 함수와 반복문 조합하기\n",
      "dictionary[키A] = 값A\n",
      "dictionary[키B] = 값B\n",
      "dictionary[키C] = 값C\n"
     ]
    }
   ],
   "source": [
    "# items() 에시\n",
    "\n",
    "example_dictionary = {\n",
    "    \"키A\": \"값A\",\n",
    "    \"키B\": \"값B\",\n",
    "    \"키C\": \"값C\"\n",
    "}\n",
    "\n",
    "print(\"# 딕셔너리의 items() 함수\")\n",
    "print(\"items():\", example_dictionary.items())\n",
    "print()\n",
    "\n",
    "print(\"# 딕셔너리의 items() 함수와 반복문 조합하기\")\n",
    "\n",
    "for key, element in example_dictionary.items():\n",
    "    print(\"dictionary[{}] = {}\".format(key, element))"
   ]
  },
  {
   "cell_type": "code",
   "execution_count": 35,
   "id": "37df8c49-9b8a-4580-97d4-1904b7c0ac2a",
   "metadata": {},
   "outputs": [
    {
     "name": "stdout",
     "output_type": "stream",
     "text": [
      "[0, 4, 16, 36, 64, 100, 144, 196, 256, 324]\n"
     ]
    }
   ],
   "source": [
    "# 반복문을 사용한 리스트 생성\n",
    "array = []\n",
    "\n",
    "for i in range(0, 20, 2):\n",
    "    array.append(i*i)\n",
    "\n",
    "print(array)"
   ]
  },
  {
   "cell_type": "code",
   "execution_count": 38,
   "id": "5a17a9ce-abf7-41d3-8eed-849126fa038c",
   "metadata": {},
   "outputs": [
    {
     "name": "stdout",
     "output_type": "stream",
     "text": [
      "[0, 4, 16, 36, 64, 100, 144, 196, 256, 324]\n"
     ]
    }
   ],
   "source": [
    "# 리스트 안에 for문 사용하기\n",
    "\n",
    "array = [i * i for i in range(0, 20, 2)] # range(0, 20, 2)의 요소 i로 i*i로 리스트 재조합 (리스트 내포)\n",
    "\n",
    "print(array)"
   ]
  },
  {
   "cell_type": "code",
   "execution_count": 39,
   "id": "819afccf-e2d9-48c7-9c0e-c28d69ffe5ab",
   "metadata": {},
   "outputs": [
    {
     "name": "stdout",
     "output_type": "stream",
     "text": [
      "['사과', '자두', '바나나', '체리']\n"
     ]
    }
   ],
   "source": [
    "# 조건을 활용한 리스트 내포\n",
    "\n",
    "array = [\"사과\", \"자두\", \"초콜릿\", \"바나나\", \"체리\"]\n",
    "output = [fruit for fruit in array if fruit != \"초콜릿\"]\n",
    "\n",
    "print(output)"
   ]
  }
 ],
 "metadata": {
  "kernelspec": {
   "display_name": "Python 3 (ipykernel)",
   "language": "python",
   "name": "python3"
  },
  "language_info": {
   "codemirror_mode": {
    "name": "ipython",
    "version": 3
   },
   "file_extension": ".py",
   "mimetype": "text/x-python",
   "name": "python",
   "nbconvert_exporter": "python",
   "pygments_lexer": "ipython3",
   "version": "3.11.5"
  }
 },
 "nbformat": 4,
 "nbformat_minor": 5
}
