{
 "cells": [
  {
   "cell_type": "markdown",
   "id": "6202b89c-e0b8-49c6-b77b-3e86d935e63a",
   "metadata": {},
   "source": [
    "# 숫자와 문자열의 다양한 기능\n",
    "\n",
    "## format() 함수\n",
    ": 숫자를 문자열로 바꾸게 하는 함수로, 중괄호의 개수와 format 함수 관호 안 매개변수의 개수는 반드시 같아야 한다."
   ]
  },
  {
   "cell_type": "code",
   "execution_count": 5,
   "id": "46746936-297a-4486-b18f-3ef273aeb962",
   "metadata": {},
   "outputs": [
    {
     "name": "stdout",
     "output_type": "stream",
     "text": [
      "5000만 원\n",
      "파이썬 열공하여 첫 연봉 5000만 원 만들기\n",
      "3000 4000 5000\n",
      "1 문자열 True\n"
     ]
    }
   ],
   "source": [
    "# 기본적 예시\n",
    "format_a = \"{}만 원\".format(5000)\n",
    "format_b = \"파이썬 열공하여 첫 연봉 {}만 원 만들기\".format(5000)\n",
    "format_c = \"{} {} {}\".format(3000, 4000, 5000)\n",
    "format_d = \"{} {} {}\".format(1, \"문자열\", True)\n",
    "\n",
    "print(format_a)\n",
    "print(format_b)\n",
    "print(format_c)\n",
    "print(format_d)"
   ]
  },
  {
   "cell_type": "code",
   "execution_count": 6,
   "id": "57ceb39b-7010-41cc-a2f9-4de12144e2d2",
   "metadata": {},
   "outputs": [
    {
     "name": "stdout",
     "output_type": "stream",
     "text": [
      "   52\n",
      "00052\n",
      "-52\n",
      " 52\n",
      "  -52\n",
      "+  52\n"
     ]
    }
   ],
   "source": [
    "# 특정 칸에 출력\n",
    "output_a = \"{:5d}\".format(52)\n",
    "\n",
    "# 빈칸을 0으로 채우기\n",
    "output_b = \"{:05d}\".format(52)\n",
    "\n",
    "# 기호와 함께 출력하기\n",
    "output_c = \"{:+d}\".format(-52)\n",
    "output_d = \"{: d}\".format(52)\n",
    "\n",
    "# 조합하기\n",
    "output_e = \"{:+5d}\".format(-52)\n",
    "output_f = \"{:=+5d}\".format(52)\n",
    "output_g = \"{:+05d}\".format(-52)\n",
    "\n",
    "print(output_a)\n",
    "print(output_b)\n",
    "print(output_c)\n",
    "print(output_d)\n",
    "print(output_e)\n",
    "print(output_f)"
   ]
  },
  {
   "cell_type": "markdown",
   "id": "f8ac25e6-b338-40f5-87cf-bd8fd412eb39",
   "metadata": {},
   "source": [
    "## upper()와 lower()함수\n",
    ": upper()은 문자열 알파벳을 대문자로, lower()은 문자열 알파벳을 소문자로 바꾸는 함수"
   ]
  },
  {
   "cell_type": "code",
   "execution_count": 7,
   "id": "01ce70f5-874d-464b-b0ad-aad4408ec5da",
   "metadata": {},
   "outputs": [
    {
     "name": "stdout",
     "output_type": "stream",
     "text": [
      "HELLO PYTHON PROGRAMMING\n",
      "hello python programming\n"
     ]
    }
   ],
   "source": [
    "a = \"Hello Python Programming\"\n",
    "\n",
    "print(a.upper())\n",
    "print(a.lower())"
   ]
  },
  {
   "cell_type": "markdown",
   "id": "5059f7da-8d7d-4e99-b24a-dc6cf4fbbbc0",
   "metadata": {},
   "source": [
    "## strip()함수\n",
    ": 문자열 양옆의 공백을 제거하는 함수  \n",
    "cf) lstrip(): 왼쪽의 공백을 제거, rstrip(): 오른쪽의 공백을 제거"
   ]
  },
  {
   "cell_type": "code",
   "execution_count": 8,
   "id": "750f83c9-a0c2-446c-aee2-cbfc5874be6c",
   "metadata": {},
   "outputs": [
    {
     "name": "stdout",
     "output_type": "stream",
     "text": [
      "\n",
      "    안녕하세요\n",
      "문자열의 함수를 알아봅니다\n",
      "\n",
      "안녕하세요\n",
      "문자열의 함수를 알아봅니다\n"
     ]
    }
   ],
   "source": [
    "input_a = \"\"\"\n",
    "    안녕하세요\n",
    "문자열의 함수를 알아봅니다\n",
    "\"\"\"\n",
    "\n",
    "print(input_a)\n",
    "print(input_a.strip())"
   ]
  },
  {
   "cell_type": "markdown",
   "id": "635d3c22-6e8f-41f5-be29-8a0b50e20973",
   "metadata": {},
   "source": [
    "## find(), rfind() 함수\n",
    "* find() : 왼쪽부터 찾아서 처음 등장하는 위치를 찾음\n",
    "* rfind() : 오른쪽부터 찾아서 처음 등장하는 위치를 찾음"
   ]
  },
  {
   "cell_type": "code",
   "execution_count": 9,
   "id": "3a06cad4-60e4-4c4c-bb86-3fa656b29983",
   "metadata": {},
   "outputs": [
    {
     "name": "stdout",
     "output_type": "stream",
     "text": [
      "0\n",
      "2\n"
     ]
    }
   ],
   "source": [
    "output_a = \"안녕안녕하세요\".find(\"안녕\")\n",
    "output_b = \"안녕안녕하세요\".rfind(\"안녕\")\n",
    "\n",
    "print(output_a)\n",
    "print(output_b)"
   ]
  },
  {
   "cell_type": "markdown",
   "id": "1f3211eb-81c6-4a41-b73c-c7b71ddb1e09",
   "metadata": {},
   "source": [
    "## split() 함수\n",
    ": 문자열 자르기가 가능 (공백을 기준으로 함)"
   ]
  },
  {
   "cell_type": "code",
   "execution_count": 10,
   "id": "b50b5f9d-998f-420e-a2cb-891bf695a05d",
   "metadata": {},
   "outputs": [
    {
     "name": "stdout",
     "output_type": "stream",
     "text": [
      "['10', '20', '30', '40', '50']\n"
     ]
    }
   ],
   "source": [
    "a = \"10 20 30 40 50\".split(\" \")\n",
    "\n",
    "print(a)"
   ]
  }
 ],
 "metadata": {
  "kernelspec": {
   "display_name": "Python 3 (ipykernel)",
   "language": "python",
   "name": "python3"
  },
  "language_info": {
   "codemirror_mode": {
    "name": "ipython",
    "version": 3
   },
   "file_extension": ".py",
   "mimetype": "text/x-python",
   "name": "python",
   "nbconvert_exporter": "python",
   "pygments_lexer": "ipython3",
   "version": "3.11.5"
  }
 },
 "nbformat": 4,
 "nbformat_minor": 5
}
